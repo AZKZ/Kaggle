{
 "cells": [
  {
   "cell_type": "markdown",
   "metadata": {},
   "source": [
    "# Categorical Feature Encoding Challenge"
   ]
  },
  {
   "cell_type": "markdown",
   "metadata": {},
   "source": [
    "## Config"
   ]
  },
  {
   "cell_type": "code",
   "execution_count": 1,
   "metadata": {},
   "outputs": [],
   "source": [
    "# Basic packages\n",
    "import numpy as np # linear algebra\n",
    "import pandas as pd # data processing, CSV file I/O (e.g. pd.read_csv)\n",
    "import random as rd # generating random numbers\n",
    "import datetime # manipulating date formats\n",
    "from dateutil.relativedelta import relativedelta\n",
    "\n",
    "# Viz\n",
    "import matplotlib.pyplot as plt # basic plotting\n",
    "import seaborn as sns # for prettier plots\n",
    "import japanize_matplotlib\n",
    "\n",
    "# settings\n",
    "import warnings\n",
    "warnings.filterwarnings(\"ignore\")\n",
    "pd.set_option('display.max_columns',None)\n",
    "\n",
    "# # logging\n",
    "# import logging\n",
    "# consoleHandler = logging.StreamHandler()\n",
    "# consoleHandler.setLevel(logging.WARNING)"
   ]
  },
  {
   "cell_type": "code",
   "execution_count": 2,
   "metadata": {},
   "outputs": [],
   "source": [
    "class CFG:\n",
    "    data_input_path = '../data/input/'\n",
    "    data_output_path = '../data/output/'\n",
    "    randome_state = 0"
   ]
  },
  {
   "cell_type": "markdown",
   "metadata": {},
   "source": [
    "## Read"
   ]
  },
  {
   "cell_type": "code",
   "execution_count": 3,
   "metadata": {},
   "outputs": [],
   "source": [
    "df_train = pd.read_csv(CFG.data_input_path + 'train.csv')\n",
    "df_test = pd.read_csv(CFG.data_input_path + 'test.csv')\n",
    "df_sub = pd.read_csv(CFG.data_input_path + 'sample_submission.csv')\n",
    "\n",
    "df_train_raw = df_train.copy()\n",
    "df_test_raw = df_test.copy()\n",
    "df_sub_raw = df_sub.copy()"
   ]
  },
  {
   "cell_type": "code",
   "execution_count": 4,
   "metadata": {},
   "outputs": [
    {
     "name": "stdout",
     "output_type": "stream",
     "text": [
      "<class 'pandas.core.frame.DataFrame'>\n",
      "RangeIndex: 300000 entries, 0 to 299999\n",
      "Data columns (total 25 columns):\n",
      " #   Column  Non-Null Count   Dtype \n",
      "---  ------  --------------   ----- \n",
      " 0   id      300000 non-null  int64 \n",
      " 1   bin_0   300000 non-null  int64 \n",
      " 2   bin_1   300000 non-null  int64 \n",
      " 3   bin_2   300000 non-null  int64 \n",
      " 4   bin_3   300000 non-null  object\n",
      " 5   bin_4   300000 non-null  object\n",
      " 6   nom_0   300000 non-null  object\n",
      " 7   nom_1   300000 non-null  object\n",
      " 8   nom_2   300000 non-null  object\n",
      " 9   nom_3   300000 non-null  object\n",
      " 10  nom_4   300000 non-null  object\n",
      " 11  nom_5   300000 non-null  object\n",
      " 12  nom_6   300000 non-null  object\n",
      " 13  nom_7   300000 non-null  object\n",
      " 14  nom_8   300000 non-null  object\n",
      " 15  nom_9   300000 non-null  object\n",
      " 16  ord_0   300000 non-null  int64 \n",
      " 17  ord_1   300000 non-null  object\n",
      " 18  ord_2   300000 non-null  object\n",
      " 19  ord_3   300000 non-null  object\n",
      " 20  ord_4   300000 non-null  object\n",
      " 21  ord_5   300000 non-null  object\n",
      " 22  day     300000 non-null  int64 \n",
      " 23  month   300000 non-null  int64 \n",
      " 24  target  300000 non-null  int64 \n",
      "dtypes: int64(8), object(17)\n",
      "memory usage: 57.2+ MB\n"
     ]
    }
   ],
   "source": [
    "df_train.info()"
   ]
  },
  {
   "cell_type": "code",
   "execution_count": 5,
   "metadata": {},
   "outputs": [
    {
     "name": "stdout",
     "output_type": "stream",
     "text": [
      "<class 'pandas.core.frame.DataFrame'>\n",
      "RangeIndex: 200000 entries, 0 to 199999\n",
      "Data columns (total 24 columns):\n",
      " #   Column  Non-Null Count   Dtype \n",
      "---  ------  --------------   ----- \n",
      " 0   id      200000 non-null  int64 \n",
      " 1   bin_0   200000 non-null  int64 \n",
      " 2   bin_1   200000 non-null  int64 \n",
      " 3   bin_2   200000 non-null  int64 \n",
      " 4   bin_3   200000 non-null  object\n",
      " 5   bin_4   200000 non-null  object\n",
      " 6   nom_0   200000 non-null  object\n",
      " 7   nom_1   200000 non-null  object\n",
      " 8   nom_2   200000 non-null  object\n",
      " 9   nom_3   200000 non-null  object\n",
      " 10  nom_4   200000 non-null  object\n",
      " 11  nom_5   200000 non-null  object\n",
      " 12  nom_6   200000 non-null  object\n",
      " 13  nom_7   200000 non-null  object\n",
      " 14  nom_8   200000 non-null  object\n",
      " 15  nom_9   200000 non-null  object\n",
      " 16  ord_0   200000 non-null  int64 \n",
      " 17  ord_1   200000 non-null  object\n",
      " 18  ord_2   200000 non-null  object\n",
      " 19  ord_3   200000 non-null  object\n",
      " 20  ord_4   200000 non-null  object\n",
      " 21  ord_5   200000 non-null  object\n",
      " 22  day     200000 non-null  int64 \n",
      " 23  month   200000 non-null  int64 \n",
      "dtypes: int64(7), object(17)\n",
      "memory usage: 36.6+ MB\n"
     ]
    }
   ],
   "source": [
    "df_test.info()"
   ]
  },
  {
   "cell_type": "code",
   "execution_count": 6,
   "metadata": {},
   "outputs": [
    {
     "name": "stdout",
     "output_type": "stream",
     "text": [
      "<class 'pandas.core.frame.DataFrame'>\n",
      "RangeIndex: 200000 entries, 0 to 199999\n",
      "Data columns (total 2 columns):\n",
      " #   Column  Non-Null Count   Dtype  \n",
      "---  ------  --------------   -----  \n",
      " 0   id      200000 non-null  int64  \n",
      " 1   target  200000 non-null  float64\n",
      "dtypes: float64(1), int64(1)\n",
      "memory usage: 3.1 MB\n"
     ]
    }
   ],
   "source": [
    "df_sub.info()"
   ]
  },
  {
   "cell_type": "markdown",
   "metadata": {},
   "source": [
    "## Preprocessing"
   ]
  },
  {
   "cell_type": "code",
   "execution_count": 7,
   "metadata": {},
   "outputs": [
    {
     "data": {
      "text/plain": [
       "id             0\n",
       "bin_0          0\n",
       "bin_1          0\n",
       "bin_2          0\n",
       "bin_3          0\n",
       "bin_4          0\n",
       "nom_0          0\n",
       "nom_1          0\n",
       "nom_2          0\n",
       "nom_3          0\n",
       "nom_4          0\n",
       "nom_5          0\n",
       "nom_6          0\n",
       "nom_7          0\n",
       "nom_8          0\n",
       "nom_9          0\n",
       "ord_0          0\n",
       "ord_1          0\n",
       "ord_2          0\n",
       "ord_3          0\n",
       "ord_4          0\n",
       "ord_5          0\n",
       "day            0\n",
       "month          0\n",
       "target    200000\n",
       "dtype: int64"
      ]
     },
     "execution_count": 7,
     "metadata": {},
     "output_type": "execute_result"
    }
   ],
   "source": [
    "# 学習データとテストデータをマージしてから前処理する。\n",
    "df_proc = pd.concat([df_train,df_test])\n",
    "\n",
    "df_proc.isnull().sum()"
   ]
  },
  {
   "cell_type": "code",
   "execution_count": 8,
   "metadata": {},
   "outputs": [
    {
     "data": {
      "text/html": [
       "<div>\n",
       "<style scoped>\n",
       "    .dataframe tbody tr th:only-of-type {\n",
       "        vertical-align: middle;\n",
       "    }\n",
       "\n",
       "    .dataframe tbody tr th {\n",
       "        vertical-align: top;\n",
       "    }\n",
       "\n",
       "    .dataframe thead th {\n",
       "        text-align: right;\n",
       "    }\n",
       "</style>\n",
       "<table border=\"1\" class=\"dataframe\">\n",
       "  <thead>\n",
       "    <tr style=\"text-align: right;\">\n",
       "      <th></th>\n",
       "      <th>id</th>\n",
       "      <th>bin_0</th>\n",
       "      <th>bin_1</th>\n",
       "      <th>bin_2</th>\n",
       "      <th>bin_3</th>\n",
       "      <th>bin_4</th>\n",
       "      <th>nom_0</th>\n",
       "      <th>nom_1</th>\n",
       "      <th>nom_2</th>\n",
       "      <th>nom_3</th>\n",
       "      <th>nom_4</th>\n",
       "      <th>nom_5</th>\n",
       "      <th>nom_6</th>\n",
       "      <th>nom_7</th>\n",
       "      <th>nom_8</th>\n",
       "      <th>nom_9</th>\n",
       "      <th>ord_0</th>\n",
       "      <th>ord_1</th>\n",
       "      <th>ord_2</th>\n",
       "      <th>ord_3</th>\n",
       "      <th>ord_4</th>\n",
       "      <th>ord_5</th>\n",
       "      <th>day</th>\n",
       "      <th>month</th>\n",
       "      <th>target</th>\n",
       "    </tr>\n",
       "  </thead>\n",
       "  <tbody>\n",
       "    <tr>\n",
       "      <th>0</th>\n",
       "      <td>0</td>\n",
       "      <td>0</td>\n",
       "      <td>0</td>\n",
       "      <td>0</td>\n",
       "      <td>T</td>\n",
       "      <td>Y</td>\n",
       "      <td>Green</td>\n",
       "      <td>Triangle</td>\n",
       "      <td>Snake</td>\n",
       "      <td>Finland</td>\n",
       "      <td>Bassoon</td>\n",
       "      <td>50f116bcf</td>\n",
       "      <td>3ac1b8814</td>\n",
       "      <td>68f6ad3e9</td>\n",
       "      <td>c389000ab</td>\n",
       "      <td>2f4cb3d51</td>\n",
       "      <td>2</td>\n",
       "      <td>Grandmaster</td>\n",
       "      <td>Cold</td>\n",
       "      <td>h</td>\n",
       "      <td>D</td>\n",
       "      <td>kr</td>\n",
       "      <td>2</td>\n",
       "      <td>2</td>\n",
       "      <td>0.0</td>\n",
       "    </tr>\n",
       "  </tbody>\n",
       "</table>\n",
       "</div>"
      ],
      "text/plain": [
       "   id  bin_0  bin_1  bin_2 bin_3 bin_4  nom_0     nom_1  nom_2    nom_3  \\\n",
       "0   0      0      0      0     T     Y  Green  Triangle  Snake  Finland   \n",
       "\n",
       "     nom_4      nom_5      nom_6      nom_7      nom_8      nom_9  ord_0  \\\n",
       "0  Bassoon  50f116bcf  3ac1b8814  68f6ad3e9  c389000ab  2f4cb3d51      2   \n",
       "\n",
       "         ord_1 ord_2 ord_3 ord_4 ord_5  day  month  target  \n",
       "0  Grandmaster  Cold     h     D    kr    2      2     0.0  "
      ]
     },
     "execution_count": 8,
     "metadata": {},
     "output_type": "execute_result"
    }
   ],
   "source": [
    "df_proc.head(1)"
   ]
  },
  {
   "cell_type": "code",
   "execution_count": 9,
   "metadata": {},
   "outputs": [
    {
     "data": {
      "text/plain": [
       "id        500000\n",
       "bin_0          2\n",
       "bin_1          2\n",
       "bin_2          2\n",
       "bin_3          2\n",
       "bin_4          2\n",
       "nom_0          3\n",
       "nom_1          6\n",
       "nom_2          6\n",
       "nom_3          6\n",
       "nom_4          4\n",
       "nom_5        222\n",
       "nom_6        522\n",
       "nom_7       1220\n",
       "nom_8       2219\n",
       "nom_9      12068\n",
       "ord_0          3\n",
       "ord_1          5\n",
       "ord_2          6\n",
       "ord_3         15\n",
       "ord_4         26\n",
       "ord_5        192\n",
       "day            7\n",
       "month         12\n",
       "target         2\n",
       "dtype: int64"
      ]
     },
     "execution_count": 9,
     "metadata": {},
     "output_type": "execute_result"
    }
   ],
   "source": [
    "# 各カラムのユニーク数を確認する。\n",
    "df_proc.nunique()"
   ]
  },
  {
   "cell_type": "markdown",
   "metadata": {},
   "source": [
    "## EDA"
   ]
  },
  {
   "cell_type": "code",
   "execution_count": null,
   "metadata": {},
   "outputs": [],
   "source": []
  },
  {
   "cell_type": "markdown",
   "metadata": {},
   "source": [
    "## Feature Engineering"
   ]
  },
  {
   "cell_type": "code",
   "execution_count": null,
   "metadata": {},
   "outputs": [],
   "source": []
  },
  {
   "cell_type": "markdown",
   "metadata": {},
   "source": [
    "## Modeling"
   ]
  },
  {
   "cell_type": "code",
   "execution_count": 10,
   "metadata": {},
   "outputs": [
    {
     "name": "stdout",
     "output_type": "stream",
     "text": [
      "(300000, 25)\n",
      "(200000, 25)\n"
     ]
    }
   ],
   "source": [
    "df_feat = df_proc.copy()\n",
    "\n",
    "# データフレームを学習用とテスト用で分け直す\n",
    "df_feat_train = df_feat[~df_feat['target'].isna()]\n",
    "train_x,train_y = df_feat_train.drop('target',axis=1),df_feat_train['target']\n",
    "print(df_feat_train.shape)\n",
    "\n",
    "df_feat_test = df_proc[df_proc['target'].isna()]\n",
    "test_x = df_feat_test.drop('target',axis=1)\n",
    "print(df_feat_test.shape)"
   ]
  },
  {
   "cell_type": "markdown",
   "metadata": {},
   "source": [
    "### 検証"
   ]
  },
  {
   "cell_type": "code",
   "execution_count": 11,
   "metadata": {},
   "outputs": [
    {
     "name": "stdout",
     "output_type": "stream",
     "text": [
      "1回目スコア: 0.503343911324235\n",
      "2回目スコア: 0.4987303914274759\n",
      "3回目スコア: 0.4992276986787019\n",
      "4回目スコア: 0.500907112404862\n",
      "5回目スコア: 0.5016223578631931\n",
      "全体スコア平均: 0.5007662943396936\n"
     ]
    }
   ],
   "source": [
    "# Classifier\n",
    "from sklearn.dummy import DummyClassifier\n",
    "from sklearn.tree import DecisionTreeClassifier\n",
    "from sklearn.model_selection import cross_val_score\n",
    "\n",
    "# 交差検証の関数\n",
    "def closs_validation(x,y,clf,n_splits,scoring):\n",
    "\n",
    "    scores = cross_val_score(clf,x,y,cv=n_splits,scoring=scoring)\n",
    "\n",
    "    # スコアの出力\n",
    "    for i,score in enumerate(scores):\n",
    "        print(f'{i+1}回目スコア: {score}')\n",
    "\n",
    "    # 全体の平均スコアを表示する\n",
    "    print(f'全体スコア平均: {np.mean(scores)}')\n",
    "\n",
    "clf = DummyClassifier(strategy='stratified')\n",
    "\n",
    "closs_validation(train_x,train_y,clf,5,'roc_auc')"
   ]
  },
  {
   "cell_type": "markdown",
   "metadata": {},
   "source": [
    "### 予測"
   ]
  },
  {
   "cell_type": "code",
   "execution_count": 12,
   "metadata": {},
   "outputs": [],
   "source": [
    "model = clf.fit(train_x,train_y)\n",
    "\n",
    "pred = model.predict_proba(test_x)[:, 1]\n",
    "\n",
    "df_pred = test_x.copy()\n",
    "df_pred['target'] = pred"
   ]
  },
  {
   "cell_type": "markdown",
   "metadata": {},
   "source": [
    "## Submission"
   ]
  },
  {
   "cell_type": "code",
   "execution_count": 13,
   "metadata": {},
   "outputs": [
    {
     "name": "stdout",
     "output_type": "stream",
     "text": [
      "../data/output/submission.csv\n"
     ]
    }
   ],
   "source": [
    "df_pred_sub = df_pred[df_sub_raw.columns]\n",
    "df_pred_sub.to_csv(CFG.data_output_path+'submission.csv',index=False)\n",
    "print(CFG.data_output_path+'submission.csv')"
   ]
  },
  {
   "cell_type": "code",
   "execution_count": 14,
   "metadata": {},
   "outputs": [],
   "source": [
    "# ! kaggle competitions submit -c cat-in-the-dat -f ../data/output/submission.csv -m \"Message\""
   ]
  },
  {
   "cell_type": "code",
   "execution_count": null,
   "metadata": {},
   "outputs": [],
   "source": []
  }
 ],
 "metadata": {
  "interpreter": {
   "hash": "eb1549d4bc18035dd0ef110ad716637bdbc01226433e3fd0ce420de05407d6be"
  },
  "kernelspec": {
   "display_name": "Python 3.9.7 ('Kaggle-hrsqS2oW')",
   "language": "python",
   "name": "python3"
  },
  "language_info": {
   "codemirror_mode": {
    "name": "ipython",
    "version": 3
   },
   "file_extension": ".py",
   "mimetype": "text/x-python",
   "name": "python",
   "nbconvert_exporter": "python",
   "pygments_lexer": "ipython3",
   "version": "3.9.7"
  },
  "orig_nbformat": 4
 },
 "nbformat": 4,
 "nbformat_minor": 2
}
